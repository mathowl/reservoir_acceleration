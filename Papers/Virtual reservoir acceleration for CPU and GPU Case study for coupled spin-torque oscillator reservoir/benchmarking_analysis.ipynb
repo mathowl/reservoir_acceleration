{
 "cells": [
  {
   "cell_type": "code",
   "execution_count": null,
   "id": "71da942a",
   "metadata": {},
   "outputs": [],
   "source": [
    "import matplotlib.pyplot as plt\n",
    "import shelve\n",
    "import numpy as np\n",
    "import numba as nb\n",
    "\n",
    "def load_shelve(location):\n",
    "    with shelve.open(f'{location}', 'r') as shelf:\n",
    "        perform_dict = dict()\n",
    "        for k in list(shelf.keys()):\n",
    "            dumm= shelf[k]\n",
    "            if dumm[0] not in perform_dict.keys():\n",
    "                perform_dict[dumm[0]] = [float(dumm[1])]\n",
    "            else:\n",
    "                perform_dict[dumm[0]].append(float(dumm[1]))\n",
    "    return perform_dict\n",
    "\n",
    "def mean_dict(list_dict):\n",
    "    m_dict = dict()\n",
    "    for k in list_dict.keys():\n",
    "        m_dict[k] = np.array(list_dict[k]).mean()\n",
    "    return m_dict\n",
    "\n",
    "\n",
    "def std_dict(list_dict):\n",
    "    m_dict = dict()\n",
    "    for k in list_dict.keys():\n",
    "        m_dict[k] = np.array(list_dict[k]).std()\n",
    "    return m_dict\n",
    "\n",
    "def factor_table(Tp_dict,Ap_dict):\n",
    "    Akeys = Ap_dict.keys()\n",
    "    factor_list =[]\n",
    "    for a in Akeys:\n",
    "        factor_list.append(np.round(Ap_dict[a]/Tp_dict[a],1))\n",
    "    return factor_list\n"
   ]
  },
  {
   "cell_type": "code",
   "execution_count": null,
   "id": "5dbf4b8e",
   "metadata": {},
   "outputs": [],
   "source": [
    "perform_base_dict = load_shelve('base/perform_base.shelve')\n",
    "perform_base_mean_dict = mean_dict(perform_base_dict)\n",
    "\n",
    "perform_nbv_dict = load_shelve('shelve/perform_numba-vanilla.shelve')\n",
    "perform_nbv_mean_dict = mean_dict(perform_nbv_dict)\n",
    "\n",
    "perform_nbp_dict = load_shelve('shelve/perform_numba-parallel.shelve')\n",
    "perform_nbp_mean_dict = mean_dict(perform_nbp_dict)\n",
    "\n",
    "perform_gpu_dict = load_shelve('shelve/perform_gpu.shelve')\n",
    "perform_gpu_mean_dict = mean_dict(perform_gpu_dict)\n"
   ]
  },
  {
   "cell_type": "code",
   "execution_count": null,
   "id": "b94f3ee8",
   "metadata": {},
   "outputs": [],
   "source": [
    "perform_base_mean_dict"
   ]
  },
  {
   "cell_type": "code",
   "execution_count": null,
   "id": "367a6920",
   "metadata": {},
   "outputs": [],
   "source": [
    "perform_nbv_mean_dict"
   ]
  },
  {
   "cell_type": "code",
   "execution_count": null,
   "id": "b0f04911",
   "metadata": {},
   "outputs": [],
   "source": [
    "perform_nbp_mean_dict "
   ]
  },
  {
   "cell_type": "code",
   "execution_count": null,
   "id": "dd2a4acb",
   "metadata": {},
   "outputs": [],
   "source": [
    "perform_gpu_mean_dict "
   ]
  },
  {
   "cell_type": "code",
   "execution_count": null,
   "id": "6eff24e8",
   "metadata": {},
   "outputs": [],
   "source": [
    "factor_table(perform_nbv_mean_dict,perform_base_mean_dict)  # N [1,10,100,1000,2500,5000,10_000]"
   ]
  },
  {
   "cell_type": "code",
   "execution_count": null,
   "id": "1c9aac79",
   "metadata": {},
   "outputs": [],
   "source": [
    "perform_nbp_mean_dict[1]=1 # add_dummy\n",
    "factor_table(perform_nbp_mean_dict ,perform_base_mean_dict) # N [X,10,100,1000,2500,5000,10_000]"
   ]
  },
  {
   "cell_type": "code",
   "execution_count": null,
   "id": "0b7e278f",
   "metadata": {},
   "outputs": [],
   "source": [
    "perform_gpu_mean_dict[1]=1 # add_dummy\n",
    "factor_table(perform_gpu_mean_dict ,perform_base_mean_dict) # N [X,10,100,1000,2500,5000,10_000]"
   ]
  }
 ],
 "metadata": {
  "kernelspec": {
   "display_name": "Python 3 (ipykernel)",
   "language": "python",
   "name": "python3"
  },
  "language_info": {
   "codemirror_mode": {
    "name": "ipython",
    "version": 3
   },
   "file_extension": ".py",
   "mimetype": "text/x-python",
   "name": "python",
   "nbconvert_exporter": "python",
   "pygments_lexer": "ipython3",
   "version": "3.11.4"
  }
 },
 "nbformat": 4,
 "nbformat_minor": 5
}
