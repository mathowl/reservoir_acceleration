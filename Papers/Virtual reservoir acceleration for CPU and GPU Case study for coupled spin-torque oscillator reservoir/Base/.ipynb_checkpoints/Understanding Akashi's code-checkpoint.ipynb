{
 "cells": [
  {
   "cell_type": "code",
   "execution_count": 17,
   "id": "98c93815",
   "metadata": {},
   "outputs": [
    {
     "name": "stdout",
     "output_type": "stream",
     "text": [
      "The autoreload extension is already loaded. To reload it, use:\n",
      "  %reload_ext autoreload\n"
     ]
    }
   ],
   "source": [
    "import math\n",
    "import common\n",
    "import numpy as np\n",
    "import file\n",
    "\n",
    "%load_ext autoreload\n",
    "%autoreload 2"
   ]
  },
  {
   "cell_type": "code",
   "execution_count": 18,
   "id": "1f4b5ae7",
   "metadata": {},
   "outputs": [],
   "source": [
    "coupledLlgConfigs = file.loadCoupledLlgConfigs(common.COUPLED_LLG_CONFIG_FILE_NAME, \" \")\n",
    "llgConfigs = file.loadLlgConfigs(common.LLG_CONFIG_FILE_NAME, \" \")\n",
    "inputLlgConfigs = file.loadInputLlgConfigs(common.INPUT_LLG_CONFIG_FILE_NAME, \" \")\n"
   ]
  },
  {
   "cell_type": "code",
   "execution_count": 19,
   "id": "35f5a9a4",
   "metadata": {},
   "outputs": [
    {
     "data": {
      "text/plain": [
       "{'stoCount': 1000,\n",
       " 'spectorRadius': 1.0,\n",
       " 'theta_coupling': 1.5707963267948966,\n",
       " 'phi_coupling': 0.0,\n",
       " 'seed': 0}"
      ]
     },
     "execution_count": 19,
     "metadata": {},
     "output_type": "execute_result"
    }
   ],
   "source": [
    "coupledLlgConfigs"
   ]
  },
  {
   "cell_type": "code",
   "execution_count": 20,
   "id": "bb9b85db",
   "metadata": {},
   "outputs": [],
   "source": [
    "configs =llgConfigs"
   ]
  },
  {
   "cell_type": "code",
   "execution_count": 21,
   "id": "55b303c7",
   "metadata": {},
   "outputs": [
    {
     "data": {
      "text/plain": [
       "0.017453292519943295"
      ]
     },
     "execution_count": 21,
     "metadata": {},
     "output_type": "execute_result"
    }
   ],
   "source": [
    "configs[\"phi\"]"
   ]
  },
  {
   "cell_type": "code",
   "execution_count": 22,
   "id": "00c05b70",
   "metadata": {},
   "outputs": [
    {
     "data": {
      "text/plain": [
       "0.017453292519943295"
      ]
     },
     "execution_count": 22,
     "metadata": {},
     "output_type": "execute_result"
    }
   ],
   "source": [
    "configs[\"theta\"]"
   ]
  },
  {
   "cell_type": "code",
   "execution_count": 11,
   "id": "c2e5211c",
   "metadata": {},
   "outputs": [],
   "source": [
    "def sphericalCoordinateToCartesianCoordinate(sphiricalCoordinate):\n",
    "    return sphiricalCoordinate[0]*np.array([math.sin(sphiricalCoordinate[1])*math.cos(sphiricalCoordinate[2])\n",
    "                                          , math.sin(sphiricalCoordinate[1])*math.sin(sphiricalCoordinate[2])\n",
    "                                          , math.cos(sphiricalCoordinate[1])])"
   ]
  },
  {
   "cell_type": "code",
   "execution_count": 5,
   "id": "ee0ff6e0",
   "metadata": {},
   "outputs": [
    {
     "ename": "NameError",
     "evalue": "name 'system' is not defined",
     "output_type": "error",
     "traceback": [
      "\u001b[1;31m---------------------------------------------------------------------------\u001b[0m",
      "\u001b[1;31mNameError\u001b[0m                                 Traceback (most recent call last)",
      "Cell \u001b[1;32mIn[5], line 1\u001b[0m\n\u001b[1;32m----> 1\u001b[0m initialState \u001b[38;5;241m=\u001b[39m np\u001b[38;5;241m.\u001b[39mtile(common\u001b[38;5;241m.\u001b[39msphericalCoordinateToCartesianCoordinate(np\u001b[38;5;241m.\u001b[39marray([\u001b[38;5;241m1\u001b[39m, llgConfigs[\u001b[38;5;124m\"\u001b[39m\u001b[38;5;124mtheta\u001b[39m\u001b[38;5;124m\"\u001b[39m], llgConfigs[\u001b[38;5;124m\"\u001b[39m\u001b[38;5;124mphi\u001b[39m\u001b[38;5;124m\"\u001b[39m]])), (\u001b[43msystem\u001b[49m\u001b[38;5;241m.\u001b[39mstoCount, \u001b[38;5;241m1\u001b[39m))\n",
      "\u001b[1;31mNameError\u001b[0m: name 'system' is not defined"
     ]
    }
   ],
   "source": [
    "initialState = np.tile(common.sphericalCoordinateToCartesianCoordinate(np.array([1, llgConfigs[\"theta\"], llgConfigs[\"phi\"]])), (system.stoCount, 1))"
   ]
  },
  {
   "cell_type": "code",
   "execution_count": 10,
   "id": "c6224734",
   "metadata": {},
   "outputs": [
    {
     "ename": "ValueError",
     "evalue": "matmul: Input operand 1 has a mismatch in its core dimension 0, with gufunc signature (n?,k),(k,m?)->(n?,m?) (size 1 is different from 1000)",
     "output_type": "error",
     "traceback": [
      "\u001b[1;31m---------------------------------------------------------------------------\u001b[0m",
      "\u001b[1;31mValueError\u001b[0m                                Traceback (most recent call last)",
      "Cell \u001b[1;32mIn[10], line 2\u001b[0m\n\u001b[0;32m      1\u001b[0m system\u001b[38;5;241m.\u001b[39mnormalization(\u001b[38;5;241m1e-11\u001b[39m)\n\u001b[1;32m----> 2\u001b[0m \u001b[43msystem\u001b[49m\u001b[38;5;241;43m.\u001b[39;49m\u001b[43mdifferential\u001b[49m\u001b[43m(\u001b[49m\u001b[43mnp\u001b[49m\u001b[38;5;241;43m.\u001b[39;49m\u001b[43marray\u001b[49m\u001b[43m(\u001b[49m\u001b[43m[\u001b[49m\u001b[43m[\u001b[49m\u001b[38;5;241;43m1.74497484e-02\u001b[39;49m\u001b[43m,\u001b[49m\u001b[43m \u001b[49m\u001b[38;5;241;43m3.04586490e-04\u001b[39;49m\u001b[43m,\u001b[49m\u001b[43m \u001b[49m\u001b[38;5;241;43m9.99847695e-01\u001b[39;49m\u001b[43m]\u001b[49m\u001b[43m]\u001b[49m\u001b[43m)\u001b[49m\u001b[43m,\u001b[49m\u001b[38;5;241;43m0\u001b[39;49m\u001b[43m)\u001b[49m\n",
      "File \u001b[1;32mD:\\GitHub\\llg_reservoir\\Akeshi\\coupledLlg.py:79\u001b[0m, in \u001b[0;36mCoupledLlg.differential\u001b[1;34m(self, state, times)\u001b[0m\n\u001b[0;32m     75\u001b[0m \u001b[38;5;28;01mdef\u001b[39;00m \u001b[38;5;21mdifferential\u001b[39m(\u001b[38;5;28mself\u001b[39m, state, times):\n\u001b[0;32m     78\u001b[0m     applied \u001b[38;5;241m=\u001b[39m (\u001b[38;5;28mself\u001b[39m\u001b[38;5;241m.\u001b[39mappliedField \u001b[38;5;241m*\u001b[39m \u001b[38;5;28mself\u001b[39m\u001b[38;5;241m.\u001b[39mappliedUnitVector)\u001b[38;5;241m.\u001b[39mreshape(\u001b[38;5;241m1\u001b[39m, \u001b[38;5;241m-\u001b[39m\u001b[38;5;241m1\u001b[39m)\n\u001b[1;32m---> 79\u001b[0m     coupledApplied \u001b[38;5;241m=\u001b[39m  (\u001b[38;5;28;43mself\u001b[39;49m\u001b[38;5;241;43m.\u001b[39;49m\u001b[43minternalWeight\u001b[49m\u001b[43m \u001b[49m\u001b[38;5;241;43m@\u001b[39;49m\u001b[43m \u001b[49m\u001b[43mstate\u001b[49m\u001b[43m[\u001b[49m\u001b[43m:\u001b[49m\u001b[43m,\u001b[49m\u001b[38;5;241;43m0\u001b[39;49m\u001b[43m]\u001b[49m)\u001b[38;5;241m.\u001b[39mreshape(\u001b[38;5;241m-\u001b[39m\u001b[38;5;241m1\u001b[39m,\u001b[38;5;241m1\u001b[39m) \u001b[38;5;241m@\u001b[39m \u001b[38;5;28mself\u001b[39m\u001b[38;5;241m.\u001b[39mcouplingAppliedUnitVector\u001b[38;5;241m.\u001b[39mreshape(\u001b[38;5;241m1\u001b[39m, \u001b[38;5;241m-\u001b[39m\u001b[38;5;241m1\u001b[39m)\n\u001b[0;32m     80\u001b[0m     applied \u001b[38;5;241m=\u001b[39m (applied \u001b[38;5;241m+\u001b[39m coupledApplied)\u001b[38;5;241m/\u001b[39m \u001b[38;5;28mself\u001b[39m\u001b[38;5;241m.\u001b[39mfieldNormalizationFactor\n\u001b[0;32m     82\u001b[0m     \u001b[38;5;66;03m#asymmetricFactor = np.tile(1.0 / (1.0 + self.torqueAsymmetry * state @ self.pinned), (3,1)).T\u001b[39;00m\n",
      "\u001b[1;31mValueError\u001b[0m: matmul: Input operand 1 has a mismatch in its core dimension 0, with gufunc signature (n?,k),(k,m?)->(n?,m?) (size 1 is different from 1000)"
     ]
    }
   ],
   "source": [
    "system.normalization(1e-11)\n",
    "system.differential(np.array([[1.74497484e-02, 3.04586490e-04, 9.99847695e-01]]),0)"
   ]
  },
  {
   "cell_type": "code",
   "execution_count": 6,
   "id": "1886256d",
   "metadata": {},
   "outputs": [
    {
     "ename": "NameError",
     "evalue": "name 'configs' is not defined",
     "output_type": "error",
     "traceback": [
      "\u001b[1;31m---------------------------------------------------------------------------\u001b[0m",
      "\u001b[1;31mNameError\u001b[0m                                 Traceback (most recent call last)",
      "Cell \u001b[1;32mIn[6], line 1\u001b[0m\n\u001b[1;32m----> 1\u001b[0m \u001b[43mconfigs\u001b[49m[\u001b[38;5;124m\"\u001b[39m\u001b[38;5;124mthickness\u001b[39m\u001b[38;5;124m\"\u001b[39m] \u001b[38;5;241m*\u001b[39m math\u001b[38;5;241m.\u001b[39mpi \u001b[38;5;241m*\u001b[39m configs[\u001b[38;5;124m\"\u001b[39m\u001b[38;5;124mradius\u001b[39m\u001b[38;5;124m\"\u001b[39m][\u001b[38;5;241m0\u001b[39m] \u001b[38;5;241m*\u001b[39m configs[\u001b[38;5;124m\"\u001b[39m\u001b[38;5;124mradius\u001b[39m\u001b[38;5;124m\"\u001b[39m][\u001b[38;5;241m1\u001b[39m]\n",
      "\u001b[1;31mNameError\u001b[0m: name 'configs' is not defined"
     ]
    }
   ],
   "source": [
    "configs[\"thickness\"] * math.pi * configs[\"radius\"][0] * configs[\"radius\"][1]"
   ]
  },
  {
   "cell_type": "code",
   "execution_count": 53,
   "id": "d3774815",
   "metadata": {},
   "outputs": [
    {
     "data": {
      "text/plain": [
       "array([[-0.00030394,  0.00044992, -0.00530128]])"
      ]
     },
     "execution_count": 53,
     "metadata": {},
     "output_type": "execute_result"
    }
   ],
   "source": [
    "np.array([[-0.00015197,  0.00022496, -0.00265064]])*2"
   ]
  },
  {
   "cell_type": "code",
   "execution_count": 8,
   "id": "c628ce6c",
   "metadata": {},
   "outputs": [],
   "source": [
    "def Minitial(N):   \n",
    "    return np.array([list(sphericalCoordinateToCartesianCoordinate([1,2*math.pi/360,2*math.pi/360]))]*N)\n",
    "\n",
    "P = [0.005, \\\n",
    "     1/(1+0.005**2),\\\n",
    "     (18.616e3)   - 4*np.pi*1448.3,\\\n",
    "     1,\\\n",
    "     8500,\\\n",
    "     1.05457266e9*2.5*0.537/(2*1.60217733*720*np.pi*1448.3), \\\n",
    "     0.288,\\\n",
    "     200,\\\n",
    "     [1.000000e+00, 0.000000e+00, 6.123234e-17],\\\n",
    "     416.12543922361147\n",
    "    ]"
   ]
  },
  {
   "cell_type": "code",
   "execution_count": 12,
   "id": "9d4cb60c",
   "metadata": {},
   "outputs": [],
   "source": [
    "def F(P,Win,Wcp):     \n",
    "    # p_vec needs to be same length as m\n",
    "    \n",
    "    H1func = lambda m : np.multiply(np.reshape(P[7]  + P[2] * m[:,2],(-1,1)),[0,0,1]) \n",
    "    H2func = lambda m : 0 #P[3] * np.multiply(np.reshape(np.matmul(Wcp,m[:,0]),(-1,1) ),[1,0,0])\n",
    "    H3func = lambda m,u : 0 #P[4] * np.multiply(np.reshape(np.matmul(Win,u),(-1,1)),[1,0,0])  # N by 3\n",
    "    bfunc = lambda m,u : H1func(m)/P[9] + H2func(m)/P[9] + H3func(m,u)/P[9] -  np.multiply(np.cross( m, P[8]),  np.reshape(P[5]/(1+P[6] * np.dot(m,P[8])),(-1,1)))/P[9]\n",
    "    \n",
    "    return lambda m,u : (-1* P[1] * np.cross(m, bfunc(m,u) ) - (P[0]*P[1])  * np.cross(m , np.cross(m,bfunc(m,u))))"
   ]
  },
  {
   "cell_type": "code",
   "execution_count": 13,
   "id": "9dc0c613",
   "metadata": {},
   "outputs": [],
   "source": [
    "import coupledLlg\n",
    "system = coupledLlg.CoupledLlg(llgConfigs, inputLlgConfigs, coupledLlgConfigs);\n",
    "system.normalization(1e-11);\n",
    "Wcp0 =system.internalWeight\n",
    "M0= Minitial(1000)\n",
    "DM0 = system.differential(M0,0)"
   ]
  },
  {
   "cell_type": "code",
   "execution_count": 14,
   "id": "c7b4d604",
   "metadata": {},
   "outputs": [
    {
     "data": {
      "text/plain": [
       "array([1.000000e+00, 0.000000e+00, 6.123234e-17])"
      ]
     },
     "execution_count": 14,
     "metadata": {},
     "output_type": "execute_result"
    }
   ],
   "source": [
    "system.pinned"
   ]
  },
  {
   "cell_type": "code",
   "execution_count": 15,
   "id": "2e9f7f7a",
   "metadata": {},
   "outputs": [
    {
     "data": {
      "text/plain": [
       "array([[1.74497484e-02, 3.04586490e-04, 9.99847695e-01],\n",
       "       [1.74497484e-02, 3.04586490e-04, 9.99847695e-01],\n",
       "       [1.74497484e-02, 3.04586490e-04, 9.99847695e-01],\n",
       "       ...,\n",
       "       [1.74497484e-02, 3.04586490e-04, 9.99847695e-01],\n",
       "       [1.74497484e-02, 3.04586490e-04, 9.99847695e-01],\n",
       "       [1.74497484e-02, 3.04586490e-04, 9.99847695e-01]])"
      ]
     },
     "execution_count": 15,
     "metadata": {},
     "output_type": "execute_result"
    }
   ],
   "source": [
    "M0"
   ]
  },
  {
   "cell_type": "code",
   "execution_count": 17,
   "id": "1db7d06e",
   "metadata": {},
   "outputs": [
    {
     "data": {
      "text/plain": [
       "[1.0, 0.0, 6.123234e-17]"
      ]
     },
     "execution_count": 17,
     "metadata": {},
     "output_type": "execute_result"
    }
   ],
   "source": [
    "P[8]"
   ]
  },
  {
   "cell_type": "code",
   "execution_count": null,
   "id": "52fead26",
   "metadata": {},
   "outputs": [],
   "source": []
  },
  {
   "cell_type": "code",
   "execution_count": 168,
   "id": "0eea52dc",
   "metadata": {},
   "outputs": [],
   "source": [
    "def Fup(P,Win,Wcp):   \n",
    "    H1func = lambda m : np.multiply(np.reshape(P[7]  + P[2] * m[:,2],(-1,1)),[0,0,1]) \n",
    "    H2func = lambda m : P[3] * np.multiply(np.reshape(np.matmul(Wcp,m[:,0]),(-1,1) ),[1,0,0])\n",
    "    H3func = lambda m,u : 0 #P[4] * np.multiply(np.reshape(np.matmul(Win,u),(-1,1)),[1,0,0])  # N by 3\n",
    "    bfunc = lambda m,u : H1func(m)/P[9] + H2func(m)/P[9] + H3func(m,u)/P[9] -  np.multiply(np.cross( m, P[8]),  np.reshape((P[5]/P[9])/(1+P[6] * np.dot(m,P[8])),(-1,1)))\n",
    "    return lambda m,u : (-1* P[1] * np.cross(m, bfunc(m,u) ) - (P[0]*P[1])  * np.cross(m , np.cross(m,bfunc(m,u))))"
   ]
  },
  {
   "cell_type": "code",
   "execution_count": 169,
   "id": "e0a54b07",
   "metadata": {},
   "outputs": [
    {
     "data": {
      "text/plain": [
       "array([[-0.32295775,  0.02423917,  0.00562901],\n",
       "       [-0.32295739,  0.02416711,  0.00562902],\n",
       "       [-0.32295754,  0.02419606,  0.00562902],\n",
       "       ...,\n",
       "       [-0.32295791,  0.02427044,  0.005629  ],\n",
       "       [-0.32295724,  0.02413616,  0.00562903],\n",
       "       [-0.32295777,  0.02424261,  0.00562901]])"
      ]
     },
     "execution_count": 169,
     "metadata": {},
     "output_type": "execute_result"
    }
   ],
   "source": [
    "ftest = Fup(P,0,Wcp0)\n",
    "ftest(M0,0)"
   ]
  },
  {
   "cell_type": "code",
   "execution_count": 170,
   "id": "09161a63",
   "metadata": {},
   "outputs": [
    {
     "data": {
      "text/plain": [
       "array([[-0.32295775,  0.02423917,  0.00562901],\n",
       "       [-0.32295739,  0.02416711,  0.00562902],\n",
       "       [-0.32295754,  0.02419606,  0.00562902],\n",
       "       ...,\n",
       "       [-0.32295791,  0.02427044,  0.005629  ],\n",
       "       [-0.32295724,  0.02413616,  0.00562903],\n",
       "       [-0.32295777,  0.02424261,  0.00562901]])"
      ]
     },
     "execution_count": 170,
     "metadata": {},
     "output_type": "execute_result"
    }
   ],
   "source": [
    "DM0"
   ]
  },
  {
   "cell_type": "code",
   "execution_count": 171,
   "id": "3a86bd78",
   "metadata": {},
   "outputs": [
    {
     "data": {
      "text/plain": [
       "0.3241044976982317"
      ]
     },
     "execution_count": 171,
     "metadata": {},
     "output_type": "execute_result"
    }
   ],
   "source": [
    "P[5]/P[9]"
   ]
  },
  {
   "cell_type": "code",
   "execution_count": 172,
   "id": "d5c447e3",
   "metadata": {},
   "outputs": [],
   "source": [
    "#common.H_BAR * self.spinPolarization * self.current  / (2.0 * common.CHARGE * self.magnetization * self.volume * self.fieldNormalizationFactor)"
   ]
  },
  {
   "cell_type": "code",
   "execution_count": 90,
   "id": "4d14c069",
   "metadata": {},
   "outputs": [
    {
     "data": {
      "text/plain": [
       "1.05457266e-27"
      ]
     },
     "execution_count": 90,
     "metadata": {},
     "output_type": "execute_result"
    }
   ],
   "source": [
    "common.H_BAR"
   ]
  },
  {
   "cell_type": "code",
   "execution_count": 91,
   "id": "e12e4d5c",
   "metadata": {},
   "outputs": [
    {
     "data": {
      "text/plain": [
       "0.537"
      ]
     },
     "execution_count": 91,
     "metadata": {},
     "output_type": "execute_result"
    }
   ],
   "source": [
    "configs[\"spinPolarization\"]"
   ]
  },
  {
   "cell_type": "code",
   "execution_count": 92,
   "id": "445ebc6e",
   "metadata": {},
   "outputs": [
    {
     "data": {
      "text/plain": [
       "0.0025"
      ]
     },
     "execution_count": 92,
     "metadata": {},
     "output_type": "execute_result"
    }
   ],
   "source": [
    "configs[\"current\"]"
   ]
  },
  {
   "cell_type": "code",
   "execution_count": 94,
   "id": "af7578bc",
   "metadata": {},
   "outputs": [
    {
     "data": {
      "text/plain": [
       "1.60217733e-19"
      ]
     },
     "execution_count": 94,
     "metadata": {},
     "output_type": "execute_result"
    }
   ],
   "source": [
    "common.CHARGE"
   ]
  },
  {
   "cell_type": "code",
   "execution_count": 95,
   "id": "64e44cba",
   "metadata": {},
   "outputs": [
    {
     "data": {
      "text/plain": [
       "1448.3"
      ]
     },
     "execution_count": 95,
     "metadata": {},
     "output_type": "execute_result"
    }
   ],
   "source": [
    "configs[\"magnetization\"]"
   ]
  },
  {
   "cell_type": "code",
   "execution_count": 96,
   "id": "2cfbc97d",
   "metadata": {},
   "outputs": [
    {
     "ename": "KeyError",
     "evalue": "'volume'",
     "output_type": "error",
     "traceback": [
      "\u001b[1;31m---------------------------------------------------------------------------\u001b[0m",
      "\u001b[1;31mKeyError\u001b[0m                                  Traceback (most recent call last)",
      "Cell \u001b[1;32mIn[96], line 1\u001b[0m\n\u001b[1;32m----> 1\u001b[0m \u001b[43mconfigs\u001b[49m\u001b[43m[\u001b[49m\u001b[38;5;124;43m\"\u001b[39;49m\u001b[38;5;124;43mvolume\u001b[39;49m\u001b[38;5;124;43m\"\u001b[39;49m\u001b[43m]\u001b[49m\n",
      "\u001b[1;31mKeyError\u001b[0m: 'volume'"
     ]
    }
   ],
   "source": [
    "configs[\"volume\"]"
   ]
  },
  {
   "cell_type": "code",
   "execution_count": 97,
   "id": "8fc5c1aa",
   "metadata": {},
   "outputs": [
    {
     "data": {
      "text/plain": [
       "2.2619467105846513e-17"
      ]
     },
     "execution_count": 97,
     "metadata": {},
     "output_type": "execute_result"
    }
   ],
   "source": [
    "configs[\"thickness\"] * math.pi * configs[\"radius\"][0] * configs[\"radius\"][1]"
   ]
  },
  {
   "cell_type": "code",
   "execution_count": 98,
   "id": "65055fd8",
   "metadata": {},
   "outputs": [
    {
     "data": {
      "text/plain": [
       "2e-07"
      ]
     },
     "execution_count": 98,
     "metadata": {},
     "output_type": "execute_result"
    }
   ],
   "source": [
    "configs[\"thickness\"]"
   ]
  },
  {
   "cell_type": "code",
   "execution_count": 106,
   "id": "e4940b38",
   "metadata": {},
   "outputs": [
    {
     "data": {
      "text/plain": [
       "2.2619467105846507e-17"
      ]
     },
     "execution_count": 106,
     "metadata": {},
     "output_type": "execute_result"
    }
   ],
   "source": [
    "2*60**2*math.pi*10**(-21)"
   ]
  },
  {
   "cell_type": "code",
   "execution_count": 104,
   "id": "306eaeab",
   "metadata": {},
   "outputs": [
    {
     "data": {
      "text/plain": [
       "2.2619467105846513e-17"
      ]
     },
     "execution_count": 104,
     "metadata": {},
     "output_type": "execute_result"
    }
   ],
   "source": [
    "system.volume"
   ]
  },
  {
   "cell_type": "code",
   "execution_count": 126,
   "id": "f427002e",
   "metadata": {},
   "outputs": [
    {
     "data": {
      "text/plain": [
       "1.0"
      ]
     },
     "execution_count": 126,
     "metadata": {},
     "output_type": "execute_result"
    }
   ],
   "source": [
    "coupledLlgConfigs[\"spectorRadius\"]"
   ]
  },
  {
   "cell_type": "code",
   "execution_count": 18,
   "id": "1cd01c23",
   "metadata": {},
   "outputs": [
    {
     "data": {
      "text/plain": [
       "0.07340452747904506"
      ]
     },
     "execution_count": 18,
     "metadata": {},
     "output_type": "execute_result"
    }
   ],
   "source": [
    "system.dt"
   ]
  },
  {
   "cell_type": "code",
   "execution_count": null,
   "id": "1252d57a",
   "metadata": {},
   "outputs": [],
   "source": []
  }
 ],
 "metadata": {
  "kernelspec": {
   "display_name": "Python 3 (ipykernel)",
   "language": "python",
   "name": "python3"
  },
  "language_info": {
   "codemirror_mode": {
    "name": "ipython",
    "version": 3
   },
   "file_extension": ".py",
   "mimetype": "text/x-python",
   "name": "python",
   "nbconvert_exporter": "python",
   "pygments_lexer": "ipython3",
   "version": "3.10.11"
  }
 },
 "nbformat": 4,
 "nbformat_minor": 5
}
